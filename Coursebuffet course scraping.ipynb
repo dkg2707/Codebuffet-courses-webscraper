{
 "cells": [
  {
   "cell_type": "code",
   "execution_count": 17,
   "metadata": {},
   "outputs": [],
   "source": [
    "from selenium import webdriver\n",
    "from bs4 import BeautifulSoup\n",
    "import pandas as pd\n",
    "import re\n",
    "from time import sleep\n",
    "from random import randint"
   ]
  },
  {
   "cell_type": "code",
   "execution_count": 2,
   "metadata": {},
   "outputs": [],
   "source": [
    "driver = webdriver.Chrome(r\"C:\\Users\\dkg27\\Downloads\\chromedriver_win32\\chromedriver\")\n",
    "driver.get(r\"https://www.coursebuffet.com/areas\")"
   ]
  },
  {
   "cell_type": "code",
   "execution_count": 3,
   "metadata": {},
   "outputs": [],
   "source": [
    "explore_content = driver.page_source\n",
    "explore_soup = BeautifulSoup(explore_content)\n",
    "areas={}\n",
    "for area in explore_soup.findAll('li',attrs={'class':'subname'}):\n",
    "    areas[area.text]=area.find('a',href=True)['href']"
   ]
  },
  {
   "cell_type": "code",
   "execution_count": 4,
   "metadata": {},
   "outputs": [],
   "source": [
    "# To load all the courses by clciking on load more button before scraping\n",
    "def load_all_results():\n",
    "    try:\n",
    "        element = driver.find_element_by_id('load-more-button')\n",
    "        while(True):\n",
    "            try:\n",
    "                element.click()\n",
    "            except:\n",
    "                print(\"All courses found on page\")\n",
    "                break\n",
    "    except:\n",
    "        print(\"All courses found on page\")"
   ]
  },
  {
   "cell_type": "code",
   "execution_count": 18,
   "metadata": {},
   "outputs": [
    {
     "name": "stdout",
     "output_type": "stream",
     "text": [
      "All courses found on page\n",
      "All courses found on page\n",
      "All courses found on page\n",
      "All courses found on page\n",
      "All courses found on page\n",
      "All courses found on page\n",
      "All courses found on page\n",
      "All courses found on page\n",
      "All courses found on page\n",
      "All courses found on page\n",
      "All courses found on page\n",
      "All courses found on page\n",
      "All courses found on page\n"
     ]
    },
    {
     "ename": "AttributeError",
     "evalue": "'NoneType' object has no attribute 'findAll'",
     "output_type": "error",
     "traceback": [
      "\u001b[1;31m---------------------------------------------------------------------------\u001b[0m",
      "\u001b[1;31mAttributeError\u001b[0m                            Traceback (most recent call last)",
      "\u001b[1;32m<ipython-input-18-cded86f4a315>\u001b[0m in \u001b[0;36m<module>\u001b[1;34m\u001b[0m\n\u001b[0;32m     18\u001b[0m             \u001b[0mcourse_content\u001b[0m \u001b[1;33m=\u001b[0m \u001b[0mdriver\u001b[0m\u001b[1;33m.\u001b[0m\u001b[0mpage_source\u001b[0m\u001b[1;33m\u001b[0m\u001b[1;33m\u001b[0m\u001b[0m\n\u001b[0;32m     19\u001b[0m             \u001b[0mcourse_soup\u001b[0m \u001b[1;33m=\u001b[0m \u001b[0mBeautifulSoup\u001b[0m\u001b[1;33m(\u001b[0m\u001b[0mcourse_content\u001b[0m\u001b[1;33m)\u001b[0m\u001b[1;33m\u001b[0m\u001b[1;33m\u001b[0m\u001b[0m\n\u001b[1;32m---> 20\u001b[1;33m             \u001b[0minfo\u001b[0m \u001b[1;33m=\u001b[0m \u001b[0mcourse_soup\u001b[0m\u001b[1;33m.\u001b[0m\u001b[0mfind\u001b[0m\u001b[1;33m(\u001b[0m\u001b[1;34m'ul'\u001b[0m\u001b[1;33m,\u001b[0m\u001b[0mattrs\u001b[0m\u001b[1;33m=\u001b[0m\u001b[1;33m{\u001b[0m\u001b[1;34m'class'\u001b[0m\u001b[1;33m:\u001b[0m\u001b[1;34m'coursepage-coursemeta'\u001b[0m\u001b[1;33m}\u001b[0m\u001b[1;33m)\u001b[0m\u001b[1;33m.\u001b[0m\u001b[0mfindAll\u001b[0m\u001b[1;33m(\u001b[0m\u001b[1;34m'li'\u001b[0m\u001b[1;33m)\u001b[0m\u001b[1;33m\u001b[0m\u001b[1;33m\u001b[0m\u001b[0m\n\u001b[0m\u001b[0;32m     21\u001b[0m             \u001b[0mcourses\u001b[0m\u001b[1;33m[\u001b[0m\u001b[1;34m'University'\u001b[0m\u001b[1;33m]\u001b[0m \u001b[1;33m=\u001b[0m \u001b[0minfo\u001b[0m\u001b[1;33m[\u001b[0m\u001b[1;36m1\u001b[0m\u001b[1;33m]\u001b[0m\u001b[1;33m.\u001b[0m\u001b[0mtext\u001b[0m\u001b[1;33m\u001b[0m\u001b[1;33m\u001b[0m\u001b[0m\n\u001b[0;32m     22\u001b[0m             \u001b[0mcourses\u001b[0m\u001b[1;33m[\u001b[0m\u001b[1;34m'Provided by'\u001b[0m\u001b[1;33m]\u001b[0m \u001b[1;33m=\u001b[0m \u001b[0minfo\u001b[0m\u001b[1;33m[\u001b[0m\u001b[1;36m2\u001b[0m\u001b[1;33m]\u001b[0m\u001b[1;33m.\u001b[0m\u001b[0mtext\u001b[0m\u001b[1;33m\u001b[0m\u001b[1;33m\u001b[0m\u001b[0m\n",
      "\u001b[1;31mAttributeError\u001b[0m: 'NoneType' object has no attribute 'findAll'"
     ]
    }
   ],
   "source": [
    "all_courses=[]\n",
    "for sub_cat,sub_cat_url in areas.items():\n",
    "    driver.get('https://www.coursebuffet.com'+sub_cat_url)\n",
    "    load_all_results()\n",
    "    content = driver.page_source\n",
    "    soup = BeautifulSoup(content)\n",
    "    for course_num in soup.findAll('div', attrs={'class' : re.compile(\"^search-resultunit item\")}):\n",
    "        y=course_num.find('a',href=True).text\n",
    "        for course in course_num.findAll('span', attrs={'class':'resultlist-unit-coursetitle'}):\n",
    "            courses={}\n",
    "            courses['Number']=course_num.find('span').text\n",
    "            x=course.find('a',href=True)\n",
    "            courses['Classified as']=y\n",
    "            courses['Name']=x.text\n",
    "            courses['Area']=sub_cat\n",
    "            courses['url']=x['href']\n",
    "            driver.get('https://www.coursebuffet.com'+x['href'])\n",
    "            course_content = driver.page_source\n",
    "            course_soup = BeautifulSoup(course_content)\n",
    "            info = course_soup.find('ul',attrs={'class':'coursepage-coursemeta'}).findAll('li')\n",
    "            courses['University'] = info[1].text\n",
    "            courses['Provided by'] = info[2].text\n",
    "            details=course_soup.find('div',attrs={'class':\"tab-content coursepage-tabcnt\"})\n",
    "            courses['Desc']=details.find('p').text\n",
    "            details=details.findAll('li')\n",
    "            courses['Instructor']=details[0].text[14:]\n",
    "            courses['Extra Info']=[]\n",
    "            for d in range(0,len(details)):\n",
    "                courses['Extra Info'].append(details[d].text)\n",
    "            all_courses.append(courses)\n",
    "            sleep(randint(2,10))"
   ]
  },
  {
   "cell_type": "code",
   "execution_count": 19,
   "metadata": {},
   "outputs": [
    {
     "name": "stdout",
     "output_type": "stream",
     "text": [
      "       Number                                      Classified as  \\\n",
      "0    Arch 204                                       Architecture   \n",
      "1    Arch 204                                       Architecture   \n",
      "2    Arch 204                                       Architecture   \n",
      "3    Arch 232                    History of Chinese Architecture   \n",
      "4    Arch 250  Lower Level Architecture courses (partially cl...   \n",
      "..        ...                                                ...   \n",
      "337  Mrkt 408                                  Digital Marketing   \n",
      "338  Mrkt 409                  Basics of Analytics and Marketing   \n",
      "339  Mrkt 410                            Analytics and Marketing   \n",
      "340  Mrkt 411                        Digital Marketing Landscape   \n",
      "341  Mrkt 412                         Digital Marketing Planning   \n",
      "\n",
      "                                                  Name          Area  \\\n",
      "0                          Architecture 101 - Part III  Architecture   \n",
      "1                            Architecture 101 - Part I  Architecture   \n",
      "2                        The Architectural Imagination  Architecture   \n",
      "3                      History of Chinese Architecture  Architecture   \n",
      "4    Models in Architecture – design through physic...  Architecture   \n",
      "..                                                 ...           ...   \n",
      "337                       Marketing in a Digital World     Marketing   \n",
      "338  Digital Analytics for Marketing Professionals:...     Marketing   \n",
      "339  Digital Analytics for Marketing Professionals:...     Marketing   \n",
      "340          Digital Marketing Channels: The Landscape     Marketing   \n",
      "341               Digital Marketing Channels: Planning     Marketing   \n",
      "\n",
      "                                                   url  \\\n",
      "0    /course/1606/iversity/architecture-101-part-ii...   \n",
      "1    /course/1616/iversity/architecture-101-part-i-...   \n",
      "2    /course/1963/edx/the-architectural-imagination...   \n",
      "3    /course/1414/edx/history-of-chinese-architectu...   \n",
      "4    /course/1926/edx/models-in-architecture-design...   \n",
      "..                                                 ...   \n",
      "337  /course/1164/coursera/marketing-in-a-digital-w...   \n",
      "338  /course/1161/coursera/digital-analytics-for-ma...   \n",
      "339  /course/1160/coursera/digital-analytics-for-ma...   \n",
      "340  /course/1162/coursera/digital-marketing-channe...   \n",
      "341  /course/1163/coursera/digital-marketing-channe...   \n",
      "\n",
      "                                 University Provided by  \\\n",
      "0                  Abadir Fine Arts Academy    Iversity   \n",
      "1                  Abadir Fine Arts Academy    Iversity   \n",
      "2                                   Harvard         EdX   \n",
      "3                                  Tsinghua         EdX   \n",
      "4                                     Delft         EdX   \n",
      "..                                      ...         ...   \n",
      "337   Univ. of Illinois at Urbana-Champaign    Coursera   \n",
      "338   Univ. of Illinois at Urbana-Champaign    Coursera   \n",
      "339   Univ. of Illinois at Urbana-Champaign    Coursera   \n",
      "340   Univ. of Illinois at Urbana-Champaign    Coursera   \n",
      "341   Univ. of Illinois at Urbana-Champaign    Coursera   \n",
      "\n",
      "                                                  Desc  \\\n",
      "0    \\nFrom space to architecture: To structure, or...   \n",
      "1    \\nFrom nothingness to place: To learn to stare...   \n",
      "2    \\nArchitecture engages a culture’s deepest soc...   \n",
      "3    \\nChina's architectural history spans thousand...   \n",
      "4    \\nPhysical and digital design skills are key t...   \n",
      "..                                                 ...   \n",
      "337  \\nThis course will examine how digital tools, ...   \n",
      "338  \\nLearn the introductory theory and strategy b...   \n",
      "339  \\nThis course builds on the theory and foundat...   \n",
      "340  \\nLearn the role of digital channels in an int...   \n",
      "341  \\nDiscover the multiple channels used by digit...   \n",
      "\n",
      "                                     Instructor  \\\n",
      "0                            Anne-Sophie Gauvin   \n",
      "1                                Petronela Nita   \n",
      "2    K. Michael Hays, Erika Naginski and others   \n",
      "3             Wang Guixiang, Lv Zhou and others   \n",
      "4                         Martijn Stellingwerff   \n",
      "..                                          ...   \n",
      "337                            Aric Rindfleisch   \n",
      "338                               Kevin Hartman   \n",
      "339                               Kevin Hartman   \n",
      "340                            Rhiannon Clifton   \n",
      "341                            Rhiannon Clifton   \n",
      "\n",
      "                                            Extra Info  \n",
      "0    [Instructor(s) Anne-Sophie Gauvin, University ...  \n",
      "1    [Instructor(s) Petronela Nita, University , Pr...  \n",
      "2    [Instructor(s) K. Michael Hays, Erika Naginski...  \n",
      "3    [Instructor(s) Wang Guixiang, Lv Zhou and othe...  \n",
      "4    [Instructor(s) Martijn Stellingwerff, Universi...  \n",
      "..                                                 ...  \n",
      "337  [Instructor(s) Aric Rindfleisch, University , ...  \n",
      "338  [Instructor(s) Kevin Hartman, University , Pro...  \n",
      "339  [Instructor(s) Kevin Hartman, University , Pro...  \n",
      "340  [Instructor(s) Rhiannon Clifton, University , ...  \n",
      "341  [Instructor(s) Rhiannon Clifton, University , ...  \n",
      "\n",
      "[342 rows x 10 columns]\n"
     ]
    }
   ],
   "source": [
    "df=pd.DataFrame(all_courses)\n",
    "print(df)"
   ]
  }
 ],
 "metadata": {
  "kernelspec": {
   "display_name": "Python 3",
   "language": "python",
   "name": "python3"
  },
  "language_info": {
   "codemirror_mode": {
    "name": "ipython",
    "version": 3
   },
   "file_extension": ".py",
   "mimetype": "text/x-python",
   "name": "python",
   "nbconvert_exporter": "python",
   "pygments_lexer": "ipython3",
   "version": "3.7.4"
  }
 },
 "nbformat": 4,
 "nbformat_minor": 2
}
